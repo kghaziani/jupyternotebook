{
 "cells": [
  {
   "cell_type": "markdown",
   "id": "2f159c95-d341-49da-8056-b2278b324a42",
   "metadata": {},
   "source": [
    "# Data Science Tools and Ecosystem"
   ]
  },
  {
   "cell_type": "markdown",
   "id": "f1e375d2-8093-461a-9694-a9ec448a28b4",
   "metadata": {},
   "source": [
    "In this notebook, Data Science Tools and Ecosystem are summarized."
   ]
  },
  {
   "cell_type": "markdown",
   "id": "2241287f-8f20-472e-a272-83a31b13431c",
   "metadata": {},
   "source": [
    "**Objectives:**\n",
    "* Data science languages\n",
    "* Data science libraries\n",
    "* Data science tools"
   ]
  },
  {
   "cell_type": "markdown",
   "id": "66b1a67a-7cdc-4a8f-8358-920679b2cfbb",
   "metadata": {},
   "source": [
    "Some of the popular languages that Data Scientists use are:"
   ]
  },
  {
   "cell_type": "markdown",
   "id": "9c693d02-5cb9-4d63-9c43-41953956848f",
   "metadata": {},
   "source": [
    "1. python\n",
    "2. sql\n",
    "3. java"
   ]
  },
  {
   "cell_type": "markdown",
   "id": "da971eee-9e43-47f9-b0b1-692205409c3b",
   "metadata": {},
   "source": [
    "Some of the commonly used libraries used by Data Scientists include:"
   ]
  },
  {
   "cell_type": "markdown",
   "id": "bfbd0771-89c9-49fb-b87f-cde951392460",
   "metadata": {},
   "source": [
    "1. numpy\n",
    "2. matplotlib\n",
    "3. seabord"
   ]
  },
  {
   "cell_type": "markdown",
   "id": "8fb2567a-6b5d-46c3-9f96-d06bce17e7b7",
   "metadata": {},
   "source": [
    "|Data Science Tools|\n",
    "------\n",
    "jupyter notebook\n",
    "rstudio\n",
    "apache zeppelin"
   ]
  },
  {
   "cell_type": "markdown",
   "id": "84f09030-7171-4d16-81c2-cedf3c799215",
   "metadata": {},
   "source": [
    "### Below are a few examples of evaluating arithmetic expressions in Python"
   ]
  },
  {
   "cell_type": "code",
   "execution_count": 2,
   "id": "8f0eac94-8a91-456a-ae7a-be0835eeee55",
   "metadata": {},
   "outputs": [
    {
     "data": {
      "text/plain": [
       "17"
      ]
     },
     "execution_count": 2,
     "metadata": {},
     "output_type": "execute_result"
    }
   ],
   "source": [
    "(3*4)+5"
   ]
  },
  {
   "cell_type": "code",
   "execution_count": 7,
   "id": "335e7fc9-0fe0-41a4-bee6-59b687f4d92a",
   "metadata": {},
   "outputs": [
    {
     "name": "stdout",
     "output_type": "stream",
     "text": [
      "3.3333333333333335\n"
     ]
    }
   ],
   "source": [
    "minutes = 200\n",
    "mins_in_hour = 60\n",
    "mins_to_hour = minutes / mins_in_hour\n",
    "print(mins_to_hour)\n"
   ]
  },
  {
   "cell_type": "markdown",
   "id": "140b7e6a-5bbb-4342-b567-d776944cbc8c",
   "metadata": {},
   "source": [
    "## Author\n",
    "Kooshan Ghaziani"
   ]
  },
  {
   "cell_type": "code",
   "execution_count": null,
   "id": "217c0c68-e440-4231-9fe8-6f140fda065e",
   "metadata": {},
   "outputs": [],
   "source": []
  }
 ],
 "metadata": {
  "kernelspec": {
   "display_name": "Python 3 (ipykernel)",
   "language": "python",
   "name": "python3"
  },
  "language_info": {
   "codemirror_mode": {
    "name": "ipython",
    "version": 3
   },
   "file_extension": ".py",
   "mimetype": "text/x-python",
   "name": "python",
   "nbconvert_exporter": "python",
   "pygments_lexer": "ipython3",
   "version": "3.11.7"
  }
 },
 "nbformat": 4,
 "nbformat_minor": 5
}
